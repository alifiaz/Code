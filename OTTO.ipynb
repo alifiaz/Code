{
 "cells": [
  {
   "cell_type": "markdown",
   "metadata": {},
   "source": [
    "# Otto Group Product Classification Project"
   ]
  },
  {
   "cell_type": "markdown",
   "metadata": {},
   "source": [
    "Otto Group is one of the world’s biggest e-commerce companies selling millions of products worldwide every day.\n",
    "\n",
    "Dataset Link:  https://www.kaggle.com/c/otto-group-product-classification-challenge\n",
    "\n",
    "In this Project, we have 93 anonimized features describing products of Otto Group. \n",
    "* There are nine categories for all products. The task is to classify products into correct categories\n",
    "\n",
    "* The training set is comprised of 61878 labeled products (Class_1, Class_2, ..., Class_9) and have 93 numerical features ranging from 0 to 352. Features represent counts of different events\n",
    "\n",
    "* Task is to predict 144368 products of the testing dataset"
   ]
  },
  {
   "cell_type": "markdown",
   "metadata": {},
   "source": [
    "In this notebook, we will present our contribution to solve the above mentioned challenge. \n",
    "\n",
    "First the data will be presented, followed by exploratory data analysis and finally describe the classification modelling\n",
    "\n",
    "** Section 1: Data and Libraries Import**\n",
    "\n",
    "** Section 2: Exploratory Data Analysis**\n",
    "\n",
    "** Section 3: Feature Selection**\n",
    "\n",
    "** Section 4: Machine Learning Modelling**"
   ]
  },
  {
   "cell_type": "markdown",
   "metadata": {},
   "source": [
    "## *SECTION 1*\n",
    "### 1. Libraries and Data Import"
   ]
  },
  {
   "cell_type": "code",
   "execution_count": 1,
   "metadata": {},
   "outputs": [],
   "source": [
    "import numpy as np\n",
    "import pandas as pd\n",
    "import matplotlib.pyplot as plt\n",
    "from pandas import read_csv, DataFrame, get_dummies, Series\n",
    "from sklearn.preprocessing import LabelEncoder\n",
    "from sklearn.calibration import CalibratedClassifierCV\n",
    "from xgboost.sklearn import XGBClassifier\n",
    "from sklearn.ensemble import ExtraTreesClassifier, RandomForestClassifier\n",
    "from sklearn.metrics import log_loss\n",
    "from sklearn.model_selection import train_test_split\n",
    "from sklearn.decomposition import PCA\n",
    "from sklearn.metrics import accuracy_score\n",
    "from sklearn.metrics import log_loss\n",
    "pd.options.display.float_format = '{:.2f}'.format\n",
    "import warnings\n",
    "warnings.filterwarnings(\"ignore\")\n",
    "import seaborn as sns\n",
    "%matplotlib inline"
   ]
  },
  {
   "cell_type": "markdown",
   "metadata": {},
   "source": [
    "### 1.1. Data Import"
   ]
  },
  {
   "cell_type": "code",
   "execution_count": 2,
   "metadata": {},
   "outputs": [],
   "source": [
    "data = pd.read_csv('otto/otto.csv') #Training Data\n",
    "#test = pd.read_csv('otto/test_otto.csv') #Test Data"
   ]
  },
  {
   "cell_type": "code",
   "execution_count": 3,
   "metadata": {},
   "outputs": [
    {
     "name": "stdout",
     "output_type": "stream",
     "text": [
      "Training dataset has 61878 rows and 95 columns\n"
     ]
    },
    {
     "data": {
      "text/html": [
       "<div>\n",
       "<style scoped>\n",
       "    .dataframe tbody tr th:only-of-type {\n",
       "        vertical-align: middle;\n",
       "    }\n",
       "\n",
       "    .dataframe tbody tr th {\n",
       "        vertical-align: top;\n",
       "    }\n",
       "\n",
       "    .dataframe thead th {\n",
       "        text-align: right;\n",
       "    }\n",
       "</style>\n",
       "<table border=\"1\" class=\"dataframe\">\n",
       "  <thead>\n",
       "    <tr style=\"text-align: right;\">\n",
       "      <th></th>\n",
       "      <th>id</th>\n",
       "      <th>feat_1</th>\n",
       "      <th>feat_2</th>\n",
       "      <th>feat_3</th>\n",
       "      <th>feat_4</th>\n",
       "      <th>feat_5</th>\n",
       "      <th>feat_6</th>\n",
       "      <th>feat_7</th>\n",
       "      <th>feat_8</th>\n",
       "      <th>feat_9</th>\n",
       "      <th>...</th>\n",
       "      <th>feat_85</th>\n",
       "      <th>feat_86</th>\n",
       "      <th>feat_87</th>\n",
       "      <th>feat_88</th>\n",
       "      <th>feat_89</th>\n",
       "      <th>feat_90</th>\n",
       "      <th>feat_91</th>\n",
       "      <th>feat_92</th>\n",
       "      <th>feat_93</th>\n",
       "      <th>Pclass</th>\n",
       "    </tr>\n",
       "  </thead>\n",
       "  <tbody>\n",
       "    <tr>\n",
       "      <th>0</th>\n",
       "      <td>1</td>\n",
       "      <td>1</td>\n",
       "      <td>0</td>\n",
       "      <td>0</td>\n",
       "      <td>0</td>\n",
       "      <td>0</td>\n",
       "      <td>0</td>\n",
       "      <td>0</td>\n",
       "      <td>0</td>\n",
       "      <td>0</td>\n",
       "      <td>...</td>\n",
       "      <td>1</td>\n",
       "      <td>0</td>\n",
       "      <td>0</td>\n",
       "      <td>0</td>\n",
       "      <td>0</td>\n",
       "      <td>0</td>\n",
       "      <td>0</td>\n",
       "      <td>0</td>\n",
       "      <td>0</td>\n",
       "      <td>Class_1</td>\n",
       "    </tr>\n",
       "    <tr>\n",
       "      <th>1</th>\n",
       "      <td>2</td>\n",
       "      <td>0</td>\n",
       "      <td>0</td>\n",
       "      <td>0</td>\n",
       "      <td>0</td>\n",
       "      <td>0</td>\n",
       "      <td>0</td>\n",
       "      <td>0</td>\n",
       "      <td>1</td>\n",
       "      <td>0</td>\n",
       "      <td>...</td>\n",
       "      <td>0</td>\n",
       "      <td>0</td>\n",
       "      <td>0</td>\n",
       "      <td>0</td>\n",
       "      <td>0</td>\n",
       "      <td>0</td>\n",
       "      <td>0</td>\n",
       "      <td>0</td>\n",
       "      <td>0</td>\n",
       "      <td>Class_1</td>\n",
       "    </tr>\n",
       "    <tr>\n",
       "      <th>2</th>\n",
       "      <td>3</td>\n",
       "      <td>0</td>\n",
       "      <td>0</td>\n",
       "      <td>0</td>\n",
       "      <td>0</td>\n",
       "      <td>0</td>\n",
       "      <td>0</td>\n",
       "      <td>0</td>\n",
       "      <td>1</td>\n",
       "      <td>0</td>\n",
       "      <td>...</td>\n",
       "      <td>0</td>\n",
       "      <td>0</td>\n",
       "      <td>0</td>\n",
       "      <td>0</td>\n",
       "      <td>0</td>\n",
       "      <td>0</td>\n",
       "      <td>0</td>\n",
       "      <td>0</td>\n",
       "      <td>0</td>\n",
       "      <td>Class_1</td>\n",
       "    </tr>\n",
       "    <tr>\n",
       "      <th>3</th>\n",
       "      <td>4</td>\n",
       "      <td>1</td>\n",
       "      <td>0</td>\n",
       "      <td>0</td>\n",
       "      <td>1</td>\n",
       "      <td>6</td>\n",
       "      <td>1</td>\n",
       "      <td>5</td>\n",
       "      <td>0</td>\n",
       "      <td>0</td>\n",
       "      <td>...</td>\n",
       "      <td>0</td>\n",
       "      <td>1</td>\n",
       "      <td>2</td>\n",
       "      <td>0</td>\n",
       "      <td>0</td>\n",
       "      <td>0</td>\n",
       "      <td>0</td>\n",
       "      <td>0</td>\n",
       "      <td>0</td>\n",
       "      <td>Class_1</td>\n",
       "    </tr>\n",
       "  </tbody>\n",
       "</table>\n",
       "<p>4 rows × 95 columns</p>\n",
       "</div>"
      ],
      "text/plain": [
       "   id  feat_1  feat_2  feat_3  feat_4  feat_5  feat_6  feat_7  feat_8  feat_9  \\\n",
       "0   1       1       0       0       0       0       0       0       0       0   \n",
       "1   2       0       0       0       0       0       0       0       1       0   \n",
       "2   3       0       0       0       0       0       0       0       1       0   \n",
       "3   4       1       0       0       1       6       1       5       0       0   \n",
       "\n",
       "    ...     feat_85  feat_86  feat_87  feat_88  feat_89  feat_90  feat_91  \\\n",
       "0   ...           1        0        0        0        0        0        0   \n",
       "1   ...           0        0        0        0        0        0        0   \n",
       "2   ...           0        0        0        0        0        0        0   \n",
       "3   ...           0        1        2        0        0        0        0   \n",
       "\n",
       "   feat_92  feat_93   Pclass  \n",
       "0        0        0  Class_1  \n",
       "1        0        0  Class_1  \n",
       "2        0        0  Class_1  \n",
       "3        0        0  Class_1  \n",
       "\n",
       "[4 rows x 95 columns]"
      ]
     },
     "execution_count": 3,
     "metadata": {},
     "output_type": "execute_result"
    }
   ],
   "source": [
    "print('Training dataset has %d rows and %d columns' % data.shape)\n",
    "#print('Testing dataset has %d rows and %d columns' % test.shape)\n",
    "data=data.rename(columns={\"target\": \"Pclass\"})\n",
    "data.head(4)"
   ]
  },
  {
   "cell_type": "markdown",
   "metadata": {},
   "source": [
    "### 1.2. Checking Null Values "
   ]
  },
  {
   "cell_type": "code",
   "execution_count": 4,
   "metadata": {},
   "outputs": [
    {
     "data": {
      "text/html": [
       "<div>\n",
       "<style scoped>\n",
       "    .dataframe tbody tr th:only-of-type {\n",
       "        vertical-align: middle;\n",
       "    }\n",
       "\n",
       "    .dataframe tbody tr th {\n",
       "        vertical-align: top;\n",
       "    }\n",
       "\n",
       "    .dataframe thead th {\n",
       "        text-align: right;\n",
       "    }\n",
       "</style>\n",
       "<table border=\"1\" class=\"dataframe\">\n",
       "  <thead>\n",
       "    <tr style=\"text-align: right;\">\n",
       "      <th></th>\n",
       "      <th>id</th>\n",
       "      <th>feat_1</th>\n",
       "      <th>feat_2</th>\n",
       "      <th>feat_3</th>\n",
       "      <th>feat_4</th>\n",
       "      <th>feat_5</th>\n",
       "      <th>feat_6</th>\n",
       "      <th>feat_7</th>\n",
       "      <th>feat_8</th>\n",
       "      <th>feat_9</th>\n",
       "      <th>feat_10</th>\n",
       "      <th>feat_11</th>\n",
       "      <th>feat_12</th>\n",
       "      <th>feat_13</th>\n",
       "      <th>feat_14</th>\n",
       "      <th>feat_15</th>\n",
       "      <th>feat_16</th>\n",
       "      <th>feat_17</th>\n",
       "      <th>feat_18</th>\n",
       "      <th>feat_19</th>\n",
       "      <th>feat_20</th>\n",
       "      <th>feat_21</th>\n",
       "      <th>feat_22</th>\n",
       "      <th>feat_23</th>\n",
       "      <th>feat_24</th>\n",
       "      <th>feat_25</th>\n",
       "      <th>feat_26</th>\n",
       "      <th>feat_27</th>\n",
       "      <th>feat_28</th>\n",
       "      <th>feat_29</th>\n",
       "      <th>feat_30</th>\n",
       "      <th>feat_31</th>\n",
       "      <th>feat_32</th>\n",
       "      <th>feat_33</th>\n",
       "      <th>feat_34</th>\n",
       "      <th>feat_35</th>\n",
       "      <th>feat_36</th>\n",
       "      <th>feat_37</th>\n",
       "      <th>feat_38</th>\n",
       "      <th>feat_39</th>\n",
       "      <th>feat_40</th>\n",
       "      <th>feat_41</th>\n",
       "      <th>feat_42</th>\n",
       "      <th>feat_43</th>\n",
       "      <th>feat_44</th>\n",
       "      <th>feat_45</th>\n",
       "      <th>feat_46</th>\n",
       "      <th>feat_47</th>\n",
       "      <th>feat_48</th>\n",
       "      <th>feat_49</th>\n",
       "      <th>feat_50</th>\n",
       "      <th>feat_51</th>\n",
       "      <th>feat_52</th>\n",
       "      <th>feat_53</th>\n",
       "      <th>feat_54</th>\n",
       "      <th>feat_55</th>\n",
       "      <th>feat_56</th>\n",
       "      <th>feat_57</th>\n",
       "      <th>feat_58</th>\n",
       "      <th>feat_59</th>\n",
       "      <th>feat_60</th>\n",
       "      <th>feat_61</th>\n",
       "      <th>feat_62</th>\n",
       "      <th>feat_63</th>\n",
       "      <th>feat_64</th>\n",
       "      <th>feat_65</th>\n",
       "      <th>feat_66</th>\n",
       "      <th>feat_67</th>\n",
       "      <th>feat_68</th>\n",
       "      <th>feat_69</th>\n",
       "      <th>feat_70</th>\n",
       "      <th>feat_71</th>\n",
       "      <th>feat_72</th>\n",
       "      <th>feat_73</th>\n",
       "      <th>feat_74</th>\n",
       "      <th>feat_75</th>\n",
       "      <th>feat_76</th>\n",
       "      <th>feat_77</th>\n",
       "      <th>feat_78</th>\n",
       "      <th>feat_79</th>\n",
       "      <th>feat_80</th>\n",
       "      <th>feat_81</th>\n",
       "      <th>feat_82</th>\n",
       "      <th>feat_83</th>\n",
       "      <th>feat_84</th>\n",
       "      <th>feat_85</th>\n",
       "      <th>feat_86</th>\n",
       "      <th>feat_87</th>\n",
       "      <th>feat_88</th>\n",
       "      <th>feat_89</th>\n",
       "      <th>feat_90</th>\n",
       "      <th>feat_91</th>\n",
       "      <th>feat_92</th>\n",
       "      <th>feat_93</th>\n",
       "      <th>Pclass</th>\n",
       "    </tr>\n",
       "  </thead>\n",
       "  <tbody>\n",
       "    <tr>\n",
       "      <th>0</th>\n",
       "      <td>0</td>\n",
       "      <td>0</td>\n",
       "      <td>0</td>\n",
       "      <td>0</td>\n",
       "      <td>0</td>\n",
       "      <td>0</td>\n",
       "      <td>0</td>\n",
       "      <td>0</td>\n",
       "      <td>0</td>\n",
       "      <td>0</td>\n",
       "      <td>0</td>\n",
       "      <td>0</td>\n",
       "      <td>0</td>\n",
       "      <td>0</td>\n",
       "      <td>0</td>\n",
       "      <td>0</td>\n",
       "      <td>0</td>\n",
       "      <td>0</td>\n",
       "      <td>0</td>\n",
       "      <td>0</td>\n",
       "      <td>0</td>\n",
       "      <td>0</td>\n",
       "      <td>0</td>\n",
       "      <td>0</td>\n",
       "      <td>0</td>\n",
       "      <td>0</td>\n",
       "      <td>0</td>\n",
       "      <td>0</td>\n",
       "      <td>0</td>\n",
       "      <td>0</td>\n",
       "      <td>0</td>\n",
       "      <td>0</td>\n",
       "      <td>0</td>\n",
       "      <td>0</td>\n",
       "      <td>0</td>\n",
       "      <td>0</td>\n",
       "      <td>0</td>\n",
       "      <td>0</td>\n",
       "      <td>0</td>\n",
       "      <td>0</td>\n",
       "      <td>0</td>\n",
       "      <td>0</td>\n",
       "      <td>0</td>\n",
       "      <td>0</td>\n",
       "      <td>0</td>\n",
       "      <td>0</td>\n",
       "      <td>0</td>\n",
       "      <td>0</td>\n",
       "      <td>0</td>\n",
       "      <td>0</td>\n",
       "      <td>0</td>\n",
       "      <td>0</td>\n",
       "      <td>0</td>\n",
       "      <td>0</td>\n",
       "      <td>0</td>\n",
       "      <td>0</td>\n",
       "      <td>0</td>\n",
       "      <td>0</td>\n",
       "      <td>0</td>\n",
       "      <td>0</td>\n",
       "      <td>0</td>\n",
       "      <td>0</td>\n",
       "      <td>0</td>\n",
       "      <td>0</td>\n",
       "      <td>0</td>\n",
       "      <td>0</td>\n",
       "      <td>0</td>\n",
       "      <td>0</td>\n",
       "      <td>0</td>\n",
       "      <td>0</td>\n",
       "      <td>0</td>\n",
       "      <td>0</td>\n",
       "      <td>0</td>\n",
       "      <td>0</td>\n",
       "      <td>0</td>\n",
       "      <td>0</td>\n",
       "      <td>0</td>\n",
       "      <td>0</td>\n",
       "      <td>0</td>\n",
       "      <td>0</td>\n",
       "      <td>0</td>\n",
       "      <td>0</td>\n",
       "      <td>0</td>\n",
       "      <td>0</td>\n",
       "      <td>0</td>\n",
       "      <td>0</td>\n",
       "      <td>0</td>\n",
       "      <td>0</td>\n",
       "      <td>0</td>\n",
       "      <td>0</td>\n",
       "      <td>0</td>\n",
       "      <td>0</td>\n",
       "      <td>0</td>\n",
       "      <td>0</td>\n",
       "      <td>0</td>\n",
       "    </tr>\n",
       "  </tbody>\n",
       "</table>\n",
       "</div>"
      ],
      "text/plain": [
       "   id  feat_1  feat_2  feat_3  feat_4  feat_5  feat_6  feat_7  feat_8  feat_9  \\\n",
       "0   0       0       0       0       0       0       0       0       0       0   \n",
       "\n",
       "   feat_10  feat_11  feat_12  feat_13  feat_14  feat_15  feat_16  feat_17  \\\n",
       "0        0        0        0        0        0        0        0        0   \n",
       "\n",
       "   feat_18  feat_19  feat_20  feat_21  feat_22  feat_23  feat_24  feat_25  \\\n",
       "0        0        0        0        0        0        0        0        0   \n",
       "\n",
       "   feat_26  feat_27  feat_28  feat_29  feat_30  feat_31  feat_32  feat_33  \\\n",
       "0        0        0        0        0        0        0        0        0   \n",
       "\n",
       "   feat_34  feat_35  feat_36  feat_37  feat_38  feat_39  feat_40  feat_41  \\\n",
       "0        0        0        0        0        0        0        0        0   \n",
       "\n",
       "   feat_42  feat_43  feat_44  feat_45  feat_46  feat_47  feat_48  feat_49  \\\n",
       "0        0        0        0        0        0        0        0        0   \n",
       "\n",
       "   feat_50  feat_51  feat_52  feat_53  feat_54  feat_55  feat_56  feat_57  \\\n",
       "0        0        0        0        0        0        0        0        0   \n",
       "\n",
       "   feat_58  feat_59  feat_60  feat_61  feat_62  feat_63  feat_64  feat_65  \\\n",
       "0        0        0        0        0        0        0        0        0   \n",
       "\n",
       "   feat_66  feat_67  feat_68  feat_69  feat_70  feat_71  feat_72  feat_73  \\\n",
       "0        0        0        0        0        0        0        0        0   \n",
       "\n",
       "   feat_74  feat_75  feat_76  feat_77  feat_78  feat_79  feat_80  feat_81  \\\n",
       "0        0        0        0        0        0        0        0        0   \n",
       "\n",
       "   feat_82  feat_83  feat_84  feat_85  feat_86  feat_87  feat_88  feat_89  \\\n",
       "0        0        0        0        0        0        0        0        0   \n",
       "\n",
       "   feat_90  feat_91  feat_92  feat_93  Pclass  \n",
       "0        0        0        0        0       0  "
      ]
     },
     "execution_count": 4,
     "metadata": {},
     "output_type": "execute_result"
    }
   ],
   "source": [
    "pd.set_option('display.max_columns', None)\n",
    "pd.set_option('display.max_rows', None)\n",
    "a=pd.DataFrame(data.isnull().sum())\n",
    "a.transpose()"
   ]
  },
  {
   "cell_type": "markdown",
   "metadata": {},
   "source": [
    "There are no missing values for any of the 93 features"
   ]
  },
  {
   "cell_type": "markdown",
   "metadata": {},
   "source": [
    "## *SECTION 2*\n",
    "### Exploratory Data Analysis"
   ]
  },
  {
   "cell_type": "markdown",
   "metadata": {},
   "source": [
    "### 2.1.  Count Plot of Target - 09 Product Categories\n",
    "\n",
    "From count plot, it is seen that the target classes are not equal. Class imbalance may pose a problem in doing classification and thus should be taken into account by using suitable evaluation metric"
   ]
  },
  {
   "cell_type": "code",
   "execution_count": 5,
   "metadata": {},
   "outputs": [
    {
     "data": {
      "text/html": [
       "<div>\n",
       "<style scoped>\n",
       "    .dataframe tbody tr th:only-of-type {\n",
       "        vertical-align: middle;\n",
       "    }\n",
       "\n",
       "    .dataframe tbody tr th {\n",
       "        vertical-align: top;\n",
       "    }\n",
       "\n",
       "    .dataframe thead th {\n",
       "        text-align: right;\n",
       "    }\n",
       "</style>\n",
       "<table border=\"1\" class=\"dataframe\">\n",
       "  <thead>\n",
       "    <tr style=\"text-align: right;\">\n",
       "      <th></th>\n",
       "      <th>Class_2</th>\n",
       "      <th>Class_6</th>\n",
       "      <th>Class_8</th>\n",
       "      <th>Class_3</th>\n",
       "      <th>Class_9</th>\n",
       "      <th>Class_7</th>\n",
       "      <th>Class_5</th>\n",
       "      <th>Class_4</th>\n",
       "      <th>Class_1</th>\n",
       "    </tr>\n",
       "  </thead>\n",
       "  <tbody>\n",
       "    <tr>\n",
       "      <th>Pclass</th>\n",
       "      <td>16122</td>\n",
       "      <td>14135</td>\n",
       "      <td>8464</td>\n",
       "      <td>8004</td>\n",
       "      <td>4955</td>\n",
       "      <td>2839</td>\n",
       "      <td>2739</td>\n",
       "      <td>2691</td>\n",
       "      <td>1929</td>\n",
       "    </tr>\n",
       "  </tbody>\n",
       "</table>\n",
       "</div>"
      ],
      "text/plain": [
       "        Class_2  Class_6  Class_8  Class_3  Class_9  Class_7  Class_5  \\\n",
       "Pclass    16122    14135     8464     8004     4955     2839     2739   \n",
       "\n",
       "        Class_4  Class_1  \n",
       "Pclass     2691     1929  "
      ]
     },
     "execution_count": 5,
     "metadata": {},
     "output_type": "execute_result"
    },
    {
     "data": {
      "image/png": "[encoded data removed]",
      "text/plain": [
       "<Figure size 648x288 with 1 Axes>"
      ]
     },
     "metadata": {},
     "output_type": "display_data"
    }
   ],
   "source": [
    "sns.set_style('white')\n",
    "sns.set_context(\"paper\", font_scale=1.3)\n",
    "fig = plt.figure(figsize=(9,4)) \n",
    "sns.countplot(x='Pclass',data=data,color='#1f77b4', saturation=1) \n",
    "plt.tight_layout() \n",
    "sns.despine(left=True) \n",
    "a=pd.DataFrame(data.Pclass.value_counts()) \n",
    "a.transpose()"
   ]
  },
  {
   "cell_type": "markdown",
   "metadata": {},
   "source": [
    "### 2.2. Distribution Percentage of Target Classes\n",
    "\n",
    "* Class_2 & Class_6 are most frequent in the data, representing 26% and 23% of the total labels, respectively. \n",
    "* Thus, class imbalance should be taken into account during modeling."
   ]
  },
  {
   "cell_type": "code",
   "execution_count": 6,
   "metadata": {},
   "outputs": [
    {
     "data": {
      "text/html": [
       "<div>\n",
       "<style scoped>\n",
       "    .dataframe tbody tr th:only-of-type {\n",
       "        vertical-align: middle;\n",
       "    }\n",
       "\n",
       "    .dataframe tbody tr th {\n",
       "        vertical-align: top;\n",
       "    }\n",
       "\n",
       "    .dataframe thead th {\n",
       "        text-align: right;\n",
       "    }\n",
       "</style>\n",
       "<table border=\"1\" class=\"dataframe\">\n",
       "  <thead>\n",
       "    <tr style=\"text-align: right;\">\n",
       "      <th>Pclass</th>\n",
       "      <th>Class_2</th>\n",
       "      <th>Class_6</th>\n",
       "      <th>Class_8</th>\n",
       "      <th>Class_3</th>\n",
       "      <th>Class_9</th>\n",
       "      <th>Class_7</th>\n",
       "      <th>Class_5</th>\n",
       "      <th>Class_4</th>\n",
       "      <th>Class_1</th>\n",
       "    </tr>\n",
       "  </thead>\n",
       "  <tbody>\n",
       "    <tr>\n",
       "      <th>Pclass</th>\n",
       "      <td>26.05%</td>\n",
       "      <td>22.84%</td>\n",
       "      <td>13.68%</td>\n",
       "      <td>12.94%</td>\n",
       "      <td>8.01%</td>\n",
       "      <td>4.59%</td>\n",
       "      <td>4.43%</td>\n",
       "      <td>4.35%</td>\n",
       "      <td>3.12%</td>\n",
       "    </tr>\n",
       "  </tbody>\n",
       "</table>\n",
       "</div>"
      ],
      "text/plain": [
       "Pclass Class_2 Class_6 Class_8 Class_3 Class_9 Class_7 Class_5 Class_4 Class_1\n",
       "Pclass  26.05%  22.84%  13.68%  12.94%   8.01%   4.59%   4.43%   4.35%   3.12%"
      ]
     },
     "execution_count": 6,
     "metadata": {},
     "output_type": "execute_result"
    }
   ],
   "source": [
    "class_dist = data.groupby('Pclass').agg({'Pclass':'count'}).apply(lambda x: 100 * x / float(x.sum())).sort_values(by='Pclass', ascending=False)\n",
    "class_dist['Pclass'] =  pd.Series([\"{0:.2f}%\".format(val) for val in class_dist['Pclass']], index = class_dist.index)\n",
    "class_dist.transpose()"
   ]
  },
  {
   "cell_type": "markdown",
   "metadata": {},
   "source": [
    "### 2.3. Heatmap to check Correlation between Features\n",
    "\n",
    "It is seen that some features are highly correlated and thus can be removed during modelling to reduce data dimension"
   ]
  },
  {
   "cell_type": "code",
   "execution_count": 7,
   "metadata": {},
   "outputs": [
    {
     "data": {
      "image/png": "[encoded data removed]",
      "text/plain": [
       "<Figure size 1008x432 with 2 Axes>"
      ]
     },
     "metadata": {},
     "output_type": "display_data"
    }
   ],
   "source": [
    "sns.set_style('white')\n",
    "sns.set_context(\"notebook\", font_scale=1.2, rc={\"lines.linewidth\": 2.5})\n",
    "plt.figure(figsize=(14,6))\n",
    "data_corr=data.iloc[:,1:-1]\n",
    "data_corr=data_corr.corr().abs();\n",
    "sns.heatmap(data_corr,cmap='Blues');"
   ]
  },
  {
   "cell_type": "markdown",
   "metadata": {},
   "source": [
    "### 2.4. Maximum Positive & Negative Correlation between Features"
   ]
  },
  {
   "cell_type": "code",
   "execution_count": 8,
   "metadata": {},
   "outputs": [
    {
     "name": "stdout",
     "output_type": "stream",
     "text": [
      "Top 05 highest positive correlation coefficients between features\n"
     ]
    },
    {
     "data": {
      "text/plain": [
       "feat_39  feat_45   0.82\n",
       "feat_3   feat_46   0.78\n",
       "feat_15  feat_72   0.76\n",
       "feat_30  feat_84   0.72\n",
       "feat_9   feat_64   0.70\n",
       "dtype: float64"
      ]
     },
     "metadata": {},
     "output_type": "display_data"
    },
    {
     "name": "stdout",
     "output_type": "stream",
     "text": [
      "  \n",
      "Top 5 highest negative correlation coefficients between features\n"
     ]
    },
    {
     "data": {
      "text/plain": [
       "feat_21  feat_77   0.00\n",
       "feat_91  feat_93   0.00\n",
       "feat_8   feat_10   0.00\n",
       "feat_32  feat_85   0.00\n",
       "feat_4   feat_19   0.00\n",
       "dtype: float64"
      ]
     },
     "metadata": {},
     "output_type": "display_data"
    }
   ],
   "source": [
    "# Check which features have maximum correlation value\n",
    "# Matrix is symmetric so we need to extract upper triangle matrix without diagonal (k = 1)\n",
    "oc = (data_corr.where(np.triu(np.ones(data_corr.shape), k=1).astype(np.bool))\n",
    "                 .stack()\n",
    "                 .sort_values(ascending=False))\n",
    "\n",
    "print(\"Top 05 highest positive correlation coefficients between features\")\n",
    "max_corr_pos = oc.head(5)\n",
    "display(max_corr_pos)\n",
    "print(\"  \")\n",
    "print(\"Top 5 highest negative correlation coefficients between features\")\n",
    "max_corr_neg = oc.tail(5)\n",
    "display(max_corr_neg)"
   ]
  },
  {
   "cell_type": "markdown",
   "metadata": {},
   "source": [
    "### 2.5.Cumulative Features Weights Visualisation\n",
    "\n",
    "It is seen that cumulative weight of some features is large compared to others"
   ]
  },
  {
   "cell_type": "code",
   "execution_count": 9,
   "metadata": {},
   "outputs": [
    {
     "data": {
      "image/png": "[encoded data removed]",
      "text/plain": [
       "<Figure size 1080x720 with 1 Axes>"
      ]
     },
     "metadata": {},
     "output_type": "display_data"
    }
   ],
   "source": [
    "sns.set_style('white')\n",
    "sns.set_context(\"paper\", font_scale=1.3)\n",
    "wt = data.sum()\n",
    "wt.drop(['Pclass','id']).sort_values().plot(kind='barh',color='#1f77b4', figsize=(15,10))\n",
    "sns.despine(left=True)\n",
    "#plt.grid()\n",
    "plt.tight_layout()"
   ]
  },
  {
   "cell_type": "markdown",
   "metadata": {},
   "source": [
    "### 2.6. Principal Component Analysis\n",
    "We note that 80% of the variance can be explained by the first 27 principal components. "
   ]
  },
  {
   "cell_type": "code",
   "execution_count": 10,
   "metadata": {},
   "outputs": [
    {
     "data": {
      "text/html": [
       "<div>\n",
       "<style scoped>\n",
       "    .dataframe tbody tr th:only-of-type {\n",
       "        vertical-align: middle;\n",
       "    }\n",
       "\n",
       "    .dataframe tbody tr th {\n",
       "        vertical-align: top;\n",
       "    }\n",
       "\n",
       "    .dataframe thead th {\n",
       "        text-align: right;\n",
       "    }\n",
       "</style>\n",
       "<table border=\"1\" class=\"dataframe\">\n",
       "  <thead>\n",
       "    <tr style=\"text-align: right;\">\n",
       "      <th></th>\n",
       "      <th>PC_1</th>\n",
       "      <th>PC_2</th>\n",
       "      <th>PC_3</th>\n",
       "      <th>PC_4</th>\n",
       "      <th>PC_5</th>\n",
       "      <th>PC_6</th>\n",
       "      <th>PC_7</th>\n",
       "      <th>PC_8</th>\n",
       "      <th>PC_9</th>\n",
       "      <th>PC_10</th>\n",
       "      <th>PC_11</th>\n",
       "      <th>PC_12</th>\n",
       "      <th>PC_13</th>\n",
       "      <th>PC_14</th>\n",
       "      <th>PC_15</th>\n",
       "      <th>PC_16</th>\n",
       "      <th>PC_17</th>\n",
       "      <th>PC_18</th>\n",
       "      <th>PC_19</th>\n",
       "      <th>PC_20</th>\n",
       "      <th>PC_21</th>\n",
       "      <th>PC_22</th>\n",
       "      <th>PC_23</th>\n",
       "      <th>PC_24</th>\n",
       "      <th>PC_25</th>\n",
       "      <th>PC_26</th>\n",
       "      <th>PC_27</th>\n",
       "      <th>PC_28</th>\n",
       "      <th>PC_29</th>\n",
       "      <th>PC_30</th>\n",
       "      <th>PC_31</th>\n",
       "      <th>PC_32</th>\n",
       "      <th>PC_33</th>\n",
       "      <th>PC_34</th>\n",
       "      <th>PC_35</th>\n",
       "      <th>PC_36</th>\n",
       "      <th>PC_37</th>\n",
       "      <th>PC_38</th>\n",
       "      <th>PC_39</th>\n",
       "      <th>PC_40</th>\n",
       "      <th>PC_41</th>\n",
       "      <th>PC_42</th>\n",
       "      <th>PC_43</th>\n",
       "      <th>PC_44</th>\n",
       "      <th>PC_45</th>\n",
       "      <th>PC_46</th>\n",
       "      <th>PC_47</th>\n",
       "      <th>PC_48</th>\n",
       "      <th>PC_49</th>\n",
       "      <th>PC_50</th>\n",
       "      <th>PC_51</th>\n",
       "      <th>PC_52</th>\n",
       "      <th>PC_53</th>\n",
       "      <th>PC_54</th>\n",
       "      <th>PC_55</th>\n",
       "      <th>PC_56</th>\n",
       "      <th>PC_57</th>\n",
       "      <th>PC_58</th>\n",
       "      <th>PC_59</th>\n",
       "      <th>PC_60</th>\n",
       "      <th>PC_61</th>\n",
       "      <th>PC_62</th>\n",
       "      <th>PC_63</th>\n",
       "      <th>PC_64</th>\n",
       "      <th>PC_65</th>\n",
       "      <th>PC_66</th>\n",
       "      <th>PC_67</th>\n",
       "      <th>PC_68</th>\n",
       "      <th>PC_69</th>\n",
       "      <th>PC_70</th>\n",
       "      <th>PC_71</th>\n",
       "      <th>PC_72</th>\n",
       "      <th>PC_73</th>\n",
       "      <th>PC_74</th>\n",
       "      <th>PC_75</th>\n",
       "      <th>PC_76</th>\n",
       "      <th>PC_77</th>\n",
       "      <th>PC_78</th>\n",
       "      <th>PC_79</th>\n",
       "      <th>PC_80</th>\n",
       "      <th>PC_81</th>\n",
       "      <th>PC_82</th>\n",
       "      <th>PC_83</th>\n",
       "      <th>PC_84</th>\n",
       "      <th>PC_85</th>\n",
       "      <th>PC_86</th>\n",
       "      <th>PC_87</th>\n",
       "      <th>PC_88</th>\n",
       "      <th>PC_89</th>\n",
       "      <th>PC_90</th>\n",
       "      <th>PC_91</th>\n",
       "      <th>PC_92</th>\n",
       "      <th>PC_93</th>\n",
       "    </tr>\n",
       "  </thead>\n",
       "  <tbody>\n",
       "    <tr>\n",
       "      <th>Proportion of variance</th>\n",
       "      <td>0.12</td>\n",
       "      <td>0.09</td>\n",
       "      <td>0.06</td>\n",
       "      <td>0.06</td>\n",
       "      <td>0.04</td>\n",
       "      <td>0.04</td>\n",
       "      <td>0.03</td>\n",
       "      <td>0.03</td>\n",
       "      <td>0.03</td>\n",
       "      <td>0.03</td>\n",
       "      <td>0.03</td>\n",
       "      <td>0.02</td>\n",
       "      <td>0.02</td>\n",
       "      <td>0.02</td>\n",
       "      <td>0.02</td>\n",
       "      <td>0.02</td>\n",
       "      <td>0.02</td>\n",
       "      <td>0.02</td>\n",
       "      <td>0.02</td>\n",
       "      <td>0.01</td>\n",
       "      <td>0.01</td>\n",
       "      <td>0.01</td>\n",
       "      <td>0.01</td>\n",
       "      <td>0.01</td>\n",
       "      <td>0.01</td>\n",
       "      <td>0.01</td>\n",
       "      <td>0.01</td>\n",
       "      <td>0.01</td>\n",
       "      <td>0.01</td>\n",
       "      <td>0.01</td>\n",
       "      <td>0.01</td>\n",
       "      <td>0.01</td>\n",
       "      <td>0.01</td>\n",
       "      <td>0.01</td>\n",
       "      <td>0.01</td>\n",
       "      <td>0.01</td>\n",
       "      <td>0.01</td>\n",
       "      <td>0.01</td>\n",
       "      <td>0.01</td>\n",
       "      <td>0.01</td>\n",
       "      <td>0.01</td>\n",
       "      <td>0.00</td>\n",
       "      <td>0.00</td>\n",
       "      <td>0.00</td>\n",
       "      <td>0.00</td>\n",
       "      <td>0.00</td>\n",
       "      <td>0.00</td>\n",
       "      <td>0.00</td>\n",
       "      <td>0.00</td>\n",
       "      <td>0.00</td>\n",
       "      <td>0.00</td>\n",
       "      <td>0.00</td>\n",
       "      <td>0.00</td>\n",
       "      <td>0.00</td>\n",
       "      <td>0.00</td>\n",
       "      <td>0.00</td>\n",
       "      <td>0.00</td>\n",
       "      <td>0.00</td>\n",
       "      <td>0.00</td>\n",
       "      <td>0.00</td>\n",
       "      <td>0.00</td>\n",
       "      <td>0.00</td>\n",
       "      <td>0.00</td>\n",
       "      <td>0.00</td>\n",
       "      <td>0.00</td>\n",
       "      <td>0.00</td>\n",
       "      <td>0.00</td>\n",
       "      <td>0.00</td>\n",
       "      <td>0.00</td>\n",
       "      <td>0.00</td>\n",
       "      <td>0.00</td>\n",
       "      <td>0.00</td>\n",
       "      <td>0.00</td>\n",
       "      <td>0.00</td>\n",
       "      <td>0.00</td>\n",
       "      <td>0.00</td>\n",
       "      <td>0.00</td>\n",
       "      <td>0.00</td>\n",
       "      <td>0.00</td>\n",
       "      <td>0.00</td>\n",
       "      <td>0.00</td>\n",
       "      <td>0.00</td>\n",
       "      <td>0.00</td>\n",
       "      <td>0.00</td>\n",
       "      <td>0.00</td>\n",
       "      <td>0.00</td>\n",
       "      <td>0.00</td>\n",
       "      <td>0.00</td>\n",
       "      <td>0.00</td>\n",
       "      <td>0.00</td>\n",
       "      <td>0.00</td>\n",
       "      <td>0.00</td>\n",
       "      <td>0.00</td>\n",
       "    </tr>\n",
       "    <tr>\n",
       "      <th>Cumulative proportion</th>\n",
       "      <td>0.12</td>\n",
       "      <td>0.20</td>\n",
       "      <td>0.27</td>\n",
       "      <td>0.33</td>\n",
       "      <td>0.37</td>\n",
       "      <td>0.41</td>\n",
       "      <td>0.45</td>\n",
       "      <td>0.48</td>\n",
       "      <td>0.51</td>\n",
       "      <td>0.54</td>\n",
       "      <td>0.56</td>\n",
       "      <td>0.58</td>\n",
       "      <td>0.61</td>\n",
       "      <td>0.63</td>\n",
       "      <td>0.64</td>\n",
       "      <td>0.66</td>\n",
       "      <td>0.68</td>\n",
       "      <td>0.70</td>\n",
       "      <td>0.71</td>\n",
       "      <td>0.73</td>\n",
       "      <td>0.74</td>\n",
       "      <td>0.75</td>\n",
       "      <td>0.76</td>\n",
       "      <td>0.77</td>\n",
       "      <td>0.78</td>\n",
       "      <td>0.79</td>\n",
       "      <td>0.80</td>\n",
       "      <td>0.81</td>\n",
       "      <td>0.82</td>\n",
       "      <td>0.82</td>\n",
       "      <td>0.83</td>\n",
       "      <td>0.84</td>\n",
       "      <td>0.85</td>\n",
       "      <td>0.85</td>\n",
       "      <td>0.86</td>\n",
       "      <td>0.87</td>\n",
       "      <td>0.87</td>\n",
       "      <td>0.88</td>\n",
       "      <td>0.88</td>\n",
       "      <td>0.89</td>\n",
       "      <td>0.89</td>\n",
       "      <td>0.90</td>\n",
       "      <td>0.90</td>\n",
       "      <td>0.91</td>\n",
       "      <td>0.91</td>\n",
       "      <td>0.92</td>\n",
       "      <td>0.92</td>\n",
       "      <td>0.92</td>\n",
       "      <td>0.93</td>\n",
       "      <td>0.93</td>\n",
       "      <td>0.94</td>\n",
       "      <td>0.94</td>\n",
       "      <td>0.94</td>\n",
       "      <td>0.94</td>\n",
       "      <td>0.95</td>\n",
       "      <td>0.95</td>\n",
       "      <td>0.95</td>\n",
       "      <td>0.96</td>\n",
       "      <td>0.96</td>\n",
       "      <td>0.96</td>\n",
       "      <td>0.96</td>\n",
       "      <td>0.96</td>\n",
       "      <td>0.97</td>\n",
       "      <td>0.97</td>\n",
       "      <td>0.97</td>\n",
       "      <td>0.97</td>\n",
       "      <td>0.97</td>\n",
       "      <td>0.98</td>\n",
       "      <td>0.98</td>\n",
       "      <td>0.98</td>\n",
       "      <td>0.98</td>\n",
       "      <td>0.98</td>\n",
       "      <td>0.98</td>\n",
       "      <td>0.99</td>\n",
       "      <td>0.99</td>\n",
       "      <td>0.99</td>\n",
       "      <td>0.99</td>\n",
       "      <td>0.99</td>\n",
       "      <td>0.99</td>\n",
       "      <td>0.99</td>\n",
       "      <td>0.99</td>\n",
       "      <td>0.99</td>\n",
       "      <td>0.99</td>\n",
       "      <td>1.00</td>\n",
       "      <td>1.00</td>\n",
       "      <td>1.00</td>\n",
       "      <td>1.00</td>\n",
       "      <td>1.00</td>\n",
       "      <td>1.00</td>\n",
       "      <td>1.00</td>\n",
       "      <td>1.00</td>\n",
       "      <td>1.00</td>\n",
       "      <td>1.00</td>\n",
       "    </tr>\n",
       "  </tbody>\n",
       "</table>\n",
       "</div>"
      ],
      "text/plain": [
       "                        PC_1  PC_2  PC_3  PC_4  PC_5  PC_6  PC_7  PC_8  PC_9  \\\n",
       "Proportion of variance  0.12  0.09  0.06  0.06  0.04  0.04  0.03  0.03  0.03   \n",
       "Cumulative proportion   0.12  0.20  0.27  0.33  0.37  0.41  0.45  0.48  0.51   \n",
       "\n",
       "                        PC_10  PC_11  PC_12  PC_13  PC_14  PC_15  PC_16  \\\n",
       "Proportion of variance   0.03   0.03   0.02   0.02   0.02   0.02   0.02   \n",
       "Cumulative proportion    0.54   0.56   0.58   0.61   0.63   0.64   0.66   \n",
       "\n",
       "                        PC_17  PC_18  PC_19  PC_20  PC_21  PC_22  PC_23  \\\n",
       "Proportion of variance   0.02   0.02   0.02   0.01   0.01   0.01   0.01   \n",
       "Cumulative proportion    0.68   0.70   0.71   0.73   0.74   0.75   0.76   \n",
       "\n",
       "                        PC_24  PC_25  PC_26  PC_27  PC_28  PC_29  PC_30  \\\n",
       "Proportion of variance   0.01   0.01   0.01   0.01   0.01   0.01   0.01   \n",
       "Cumulative proportion    0.77   0.78   0.79   0.80   0.81   0.82   0.82   \n",
       "\n",
       "                        PC_31  PC_32  PC_33  PC_34  PC_35  PC_36  PC_37  \\\n",
       "Proportion of variance   0.01   0.01   0.01   0.01   0.01   0.01   0.01   \n",
       "Cumulative proportion    0.83   0.84   0.85   0.85   0.86   0.87   0.87   \n",
       "\n",
       "                        PC_38  PC_39  PC_40  PC_41  PC_42  PC_43  PC_44  \\\n",
       "Proportion of variance   0.01   0.01   0.01   0.01   0.00   0.00   0.00   \n",
       "Cumulative proportion    0.88   0.88   0.89   0.89   0.90   0.90   0.91   \n",
       "\n",
       "                        PC_45  PC_46  PC_47  PC_48  PC_49  PC_50  PC_51  \\\n",
       "Proportion of variance   0.00   0.00   0.00   0.00   0.00   0.00   0.00   \n",
       "Cumulative proportion    0.91   0.92   0.92   0.92   0.93   0.93   0.94   \n",
       "\n",
       "                        PC_52  PC_53  PC_54  PC_55  PC_56  PC_57  PC_58  \\\n",
       "Proportion of variance   0.00   0.00   0.00   0.00   0.00   0.00   0.00   \n",
       "Cumulative proportion    0.94   0.94   0.94   0.95   0.95   0.95   0.96   \n",
       "\n",
       "                        PC_59  PC_60  PC_61  PC_62  PC_63  PC_64  PC_65  \\\n",
       "Proportion of variance   0.00   0.00   0.00   0.00   0.00   0.00   0.00   \n",
       "Cumulative proportion    0.96   0.96   0.96   0.96   0.97   0.97   0.97   \n",
       "\n",
       "                        PC_66  PC_67  PC_68  PC_69  PC_70  PC_71  PC_72  \\\n",
       "Proportion of variance   0.00   0.00   0.00   0.00   0.00   0.00   0.00   \n",
       "Cumulative proportion    0.97   0.97   0.98   0.98   0.98   0.98   0.98   \n",
       "\n",
       "                        PC_73  PC_74  PC_75  PC_76  PC_77  PC_78  PC_79  \\\n",
       "Proportion of variance   0.00   0.00   0.00   0.00   0.00   0.00   0.00   \n",
       "Cumulative proportion    0.98   0.99   0.99   0.99   0.99   0.99   0.99   \n",
       "\n",
       "                        PC_80  PC_81  PC_82  PC_83  PC_84  PC_85  PC_86  \\\n",
       "Proportion of variance   0.00   0.00   0.00   0.00   0.00   0.00   0.00   \n",
       "Cumulative proportion    0.99   0.99   0.99   0.99   1.00   1.00   1.00   \n",
       "\n",
       "                        PC_87  PC_88  PC_89  PC_90  PC_91  PC_92  PC_93  \n",
       "Proportion of variance   0.00   0.00   0.00   0.00   0.00   0.00   0.00  \n",
       "Cumulative proportion    1.00   1.00   1.00   1.00   1.00   1.00   1.00  "
      ]
     },
     "metadata": {},
     "output_type": "display_data"
    }
   ],
   "source": [
    "data1 = data.drop('Pclass', axis=1)\n",
    "data1 = data1.drop('id', axis=1)\n",
    "pca = PCA()\n",
    "pca.fit(data1)\n",
    "exp_var_ratio = pca.explained_variance_ratio_\n",
    "cumulative_var_ratio = np.zeros(exp_var_ratio.shape)\n",
    "for i in range(len(cumulative_var_ratio)):\n",
    "    cumulative_var_ratio[i] = np.sum(exp_var_ratio[0:i+1])\n",
    "exp_var_ratio = np.concatenate((exp_var_ratio.reshape(1,len(exp_var_ratio)), cumulative_var_ratio.reshape(1,len(cumulative_var_ratio))), axis=0)\n",
    "pd.set_option('display.max_columns', 100)\n",
    "display(pd.DataFrame(exp_var_ratio, columns = ['PC_'+str(i+1) for i in range(data1.shape[1])], index = ['Proportion of variance', 'Cumulative proportion']))"
   ]
  },
  {
   "cell_type": "markdown",
   "metadata": {},
   "source": [
    "## *SECTION 3*\n",
    "###  Feature Selection"
   ]
  },
  {
   "cell_type": "code",
   "execution_count": 11,
   "metadata": {},
   "outputs": [],
   "source": [
    "#Seperate features and target\n",
    "cols = data.columns\n",
    "X = data[cols[1:-1]] #Excluding ID and Class column\n",
    "y = data[cols[-1]]\n",
    "y = LabelEncoder().fit_transform(data.Pclass.values)\n",
    "X_train, X_test, y_train, y_test = train_test_split(X, y, stratify=y,test_size=0.20, random_state=36)"
   ]
  },
  {
   "cell_type": "markdown",
   "metadata": {},
   "source": [
    "### 3.1. Tree Based Feature Selection\n",
    "Select important features using Random forest and Extra Trees Classifier Model. Tree-based strategies used by random forests and Extra trees naturally ranks features by how well they improve the purity of the node\n",
    "\n",
    "Taking intersection of top important features by both models"
   ]
  },
  {
   "cell_type": "markdown",
   "metadata": {},
   "source": [
    "#### 3.1.1. Random Forest"
   ]
  },
  {
   "cell_type": "code",
   "execution_count": 12,
   "metadata": {},
   "outputs": [
    {
     "data": {
      "image/png": "[encoded data removed]",
      "text/plain": [
       "<Figure size 1080x576 with 1 Axes>"
      ]
     },
     "metadata": {},
     "output_type": "display_data"
    }
   ],
   "source": [
    "RF = RandomForestClassifier(n_estimators=200)\n",
    "RF.fit(X_train, y_train)\n",
    "feat_imp = Series(RF.feature_importances_, index=X_train.columns.values).sort_values(ascending=False)\n",
    "feat_imp[:30].plot(kind='bar', color='#1f77b4', title='Feature Importance with Random Forest', figsize=(15,8))\n",
    "plt.ylabel('Feature Importance Values')\n",
    "sns.despine(left=True)\n",
    "imp_feats_RF = list(feat_imp[:55].index) # Top 50 important features by Random Forest\n",
    "plt.show()"
   ]
  },
  {
   "cell_type": "markdown",
   "metadata": {},
   "source": [
    "#### 3.1.2. Extra Trees Classifier"
   ]
  },
  {
   "cell_type": "code",
   "execution_count": 13,
   "metadata": {},
   "outputs": [
    {
     "data": {
      "image/png": "[encoded data removed]",
      "text/plain": [
       "<Figure size 1080x576 with 1 Axes>"
      ]
     },
     "metadata": {},
     "output_type": "display_data"
    }
   ],
   "source": [
    "ET = ExtraTreesClassifier(n_estimators=200)\n",
    "ET.fit(X_train, y_train)\n",
    "feat_imp = Series(ET.feature_importances_, index=X_train.columns.values).sort_values(ascending=False)\n",
    "feat_imp[:30].plot(kind='bar', color='#1f77b4', title='Feature Importance with Extra Trees', figsize=(15,8))\n",
    "plt.ylabel('Feature Importance Values')\n",
    "sns.despine(left=True)\n",
    "imp_feats_ET = list(feat_imp[:55].index) # Top 50 important features by Extra Trees \n",
    "plt.savefig('Fig1.png', bbox_inches='tight', dpi=400) \n",
    "plt.show()"
   ]
  },
  {
   "cell_type": "markdown",
   "metadata": {},
   "source": [
    "#### 3.2. Finding Intersection of Common Features Identified by both Models"
   ]
  },
  {
   "cell_type": "code",
   "execution_count": 14,
   "metadata": {},
   "outputs": [
    {
     "name": "stdout",
     "output_type": "stream",
     "text": [
      "feat_34 feat_60 feat_11 feat_14 feat_40 feat_25 feat_26 feat_15 feat_67 feat_42 feat_86 feat_62 feat_24 feat_90 feat_48 feat_36 feat_75 feat_88 feat_72 feat_8 feat_64 feat_69 feat_3 feat_43 feat_32 feat_9 feat_80 feat_68 feat_76 feat_39 feat_4 feat_33 feat_16 feat_54 feat_53 feat_70 feat_57 feat_85 feat_59 feat_30 feat_17 feat_71 feat_46 feat_50 feat_38 feat_1 feat_41 feat_20 "
     ]
    }
   ],
   "source": [
    "# Find Intersection of Common Features by Random Forest and Extra Trees Model\n",
    "def intersection(lst1, lst2):\n",
    "    imp = [value for value in lst1 if value in lst2]\n",
    "    return imp\n",
    "\n",
    "imp=intersection(imp_feats_RF,imp_feats_ET)\n",
    "for x in imp:\n",
    "    print(x, end=' ')"
   ]
  },
  {
   "cell_type": "code",
   "execution_count": 16,
   "metadata": {},
   "outputs": [
    {
     "data": {
      "text/plain": [
       "48"
      ]
     },
     "execution_count": 16,
     "metadata": {},
     "output_type": "execute_result"
    }
   ],
   "source": [
    "len(imp)"
   ]
  },
  {
   "cell_type": "code",
   "execution_count": 17,
   "metadata": {},
   "outputs": [],
   "source": [
    "# Subsetting Data based on important Features\n",
    "# X = X[imp_feats]\n",
    "#Selected features Subset for training and testing\n",
    "X_train1 = X_train[imp] \n",
    "X_test1 = X_test[imp]"
   ]
  },
  {
   "cell_type": "markdown",
   "metadata": {},
   "source": [
    "## *Section 4*\n",
    "### Predictive Modeling: Machine Learning\n",
    "\n",
    "The objective is to build a predictive model which is able to distinguish between nine product categories.\n",
    "\n",
    "Evaluation metric: The evaluation metric uses the multi-class logarithmic loss (logloss). This evaluation metric is being used to penalize heavily in case a wrong prediction comes up. Each product has been defined with one true category."
   ]
  },
  {
   "cell_type": "markdown",
   "metadata": {},
   "source": [
    "Since the dataset is not balanced, thus accuracy alone is not a good metric for model selection. Thus we consider following:\n",
    "\n",
    "1. Log Loss/Cross-entropy loss: Incorporates the idea of probabilistic confidence, a perfect model would have a log loss of 0\n",
    "\n",
    "1. F1 Score: Harmonic Mean of recall and Precision"
   ]
  },
  {
   "cell_type": "markdown",
   "metadata": {},
   "source": [
    "### Principal Component Analysis"
   ]
  },
  {
   "cell_type": "code",
   "execution_count": null,
   "metadata": {},
   "outputs": [],
   "source": [
    "from data import *\n",
    "from sklearn.decomposition import PCA\n",
    "import matplotlib.pyplot as plt\n",
    "\n",
    "# Note: Total number of features is 93.\n",
    "pca = PCA(n_components = 93)\n",
    "pca.fit(data1)\n",
    "variance_ratio = pca.explained_variance_ratio_\n",
    "\n",
    "def get_explained_variance(n_components):\n",
    "    return sum(variance_ratio[0:n_components])\n",
    "\n",
    "def print_pca_explained_variance(n_components):\n",
    "   print(\"The variance explained by {0} components is {1}.\\n\"\n",
    "           .format(n_components, get_explained_variance(n_components)))\n",
    "\n",
    "print_pca_explained_variance(93)\n",
    "print_pca_explained_variance(92)\n",
    "print_pca_explained_variance(90)\n",
    "print_pca_explained_variance(50)\n",
    "print_pca_explained_variance(30)\n",
    "print_pca_explained_variance(10)\n",
    "print_pca_explained_variance(5)\n",
    "\n",
    "\n",
    "X = range(0, 93)\n",
    "Y = [get_explained_variance(x) for x in X]\n",
    "\n",
    "plt.plot(X, Y)\n",
    "plt.axis([0, 93, 0, 1])\n",
    "plt.ylabel('Proportion of Variance (beta k)')\n",
    "plt.xlabel('Number of Features')\n",
    "plt.show()\n"
   ]
  },
  {
   "cell_type": "markdown",
   "metadata": {},
   "source": [
    "## XGBoost Model\n",
    "In this this notebook we will use xgboost model, which plays an important role with respect to computational time and accuracy in many winning solutions of kaggle competitions. "
   ]
  },
  {
   "cell_type": "markdown",
   "metadata": {},
   "source": [
    "### 4.1. XGBoost Classifier with Full Features"
   ]
  },
  {
   "cell_type": "code",
   "execution_count": 18,
   "metadata": {},
   "outputs": [],
   "source": [
    "xgb_clf = XGBClassifier(n_estimators=150,n_jobs=-1)\n",
    "xgb_clf.fit(X_train,y_train)\n",
    "pred1_xgb = xgb_clf.predict(X_test)\n",
    "pred2_xgb = xgb_clf.predict_proba(X_test)"
   ]
  },
  {
   "cell_type": "markdown",
   "metadata": {},
   "source": [
    "Performance Metrics of XGB Model with full Features"
   ]
  },
  {
   "cell_type": "code",
   "execution_count": 20,
   "metadata": {},
   "outputs": [
    {
     "name": "stdout",
     "output_type": "stream",
     "text": [
      "Accuracy XGBoost: 0.7786037491919845\n",
      "Log Loss XGBoost: 0.6144325749424497\n",
      "             precision    recall  f1-score   support\n",
      "\n",
      "          0       0.64      0.37      0.47       386\n",
      "          1       0.67      0.87      0.76      3224\n",
      "          2       0.56      0.39      0.46      1601\n",
      "          3       0.82      0.37      0.51       538\n",
      "          4       0.97      0.96      0.97       548\n",
      "          5       0.93      0.93      0.93      2827\n",
      "          6       0.76      0.59      0.66       568\n",
      "          7       0.87      0.91      0.89      1693\n",
      "          8       0.83      0.84      0.84       991\n",
      "\n",
      "avg / total       0.78      0.78      0.77     12376\n",
      "\n"
     ]
    }
   ],
   "source": [
    "print ('Accuracy XGBoost:', accuracy_score(y_test, pred1_xgb))\n",
    "print ('Log Loss XGBoost:', log_loss(y_test, pred2_xgb))\n",
    "from sklearn.metrics import classification_report\n",
    "print(classification_report(y_test,pred1_xgb))"
   ]
  },
  {
   "cell_type": "markdown",
   "metadata": {
    "collapsed": true
   },
   "source": [
    "### 4.2. XGBoost Classifier with Selected Features"
   ]
  },
  {
   "cell_type": "code",
   "execution_count": 21,
   "metadata": {},
   "outputs": [],
   "source": [
    "xgb_clf = XGBClassifier(n_estimators=150,n_jobs=-1)\n",
    "xgb_clf.fit(X_train1,y_train)\n",
    "pred1_xgb = xgb_clf.predict(X_test1)\n",
    "pred2_xgb = xgb_clf.predict_proba(X_test1)"
   ]
  },
  {
   "cell_type": "markdown",
   "metadata": {},
   "source": [
    "Performance Metrics of XGB Model with Selected Features"
   ]
  },
  {
   "cell_type": "code",
   "execution_count": 22,
   "metadata": {},
   "outputs": [
    {
     "name": "stdout",
     "output_type": "stream",
     "text": [
      "Accuracy Random Forest: 0.7629282482223658\n",
      "Log Loss Random Forest: 0.6478961426900933\n",
      "             precision    recall  f1-score   support\n",
      "\n",
      "          0       0.55      0.31      0.39       386\n",
      "          1       0.66      0.86      0.75      3224\n",
      "          2       0.55      0.37      0.44      1601\n",
      "          3       0.82      0.36      0.50       538\n",
      "          4       0.97      0.95      0.96       548\n",
      "          5       0.92      0.93      0.93      2827\n",
      "          6       0.71      0.55      0.62       568\n",
      "          7       0.83      0.89      0.86      1693\n",
      "          8       0.80      0.80      0.80       991\n",
      "\n",
      "avg / total       0.76      0.76      0.75     12376\n",
      "\n"
     ]
    }
   ],
   "source": [
    "print ('Accuracy Random Forest:', accuracy_score(y_test, pred1_xgb))\n",
    "print ('Log Loss Random Forest:', log_loss(y_test, pred2_xgb))\n",
    "print(classification_report(y_test,pred1_xgb))"
   ]
  },
  {
   "cell_type": "code",
   "execution_count": 23,
   "metadata": {},
   "outputs": [
    {
     "name": "stdout",
     "output_type": "stream",
     "text": [
      "Number of features in original dataset : 93\n",
      "Selected features using tree based model: 48\n",
      "Percentage Reduction in Features Size 48.38709677419355\n"
     ]
    }
   ],
   "source": [
    "print('Number of features in original dataset :',X_test.shape[1])\n",
    "print('Selected features using tree based model:',X_test1.shape[1])\n",
    "print('Percentage Reduction in Features Size',\n",
    "     abs(((float(X_test1.shape[1])-X_test.shape[1])/X_test.shape[1]))*100)"
   ]
  },
  {
   "cell_type": "markdown",
   "metadata": {},
   "source": [
    "### 4.3. PCA Components that explain 90% of variance of data\n",
    "\n",
    "#### The compnents would be used as inputs to XGBoost Model"
   ]
  },
  {
   "cell_type": "code",
   "execution_count": 24,
   "metadata": {},
   "outputs": [
    {
     "data": {
      "text/plain": [
       "PCA(copy=True, iterated_power='auto', n_components=None, random_state=None,\n",
       "  svd_solver='auto', tol=0.0, whiten=False)"
      ]
     },
     "execution_count": 24,
     "metadata": {},
     "output_type": "execute_result"
    }
   ],
   "source": [
    "from sklearn.decomposition import PCA\n",
    "pca= PCA()\n",
    "pca.fit(X)"
   ]
  },
  {
   "cell_type": "code",
   "execution_count": 27,
   "metadata": {},
   "outputs": [
    {
     "name": "stdout",
     "output_type": "stream",
     "text": [
      "Number of PCA Components that explain 90% varoance are 43\n"
     ]
    }
   ],
   "source": [
    "k=0\n",
    "total= sum(pca.explained_variance_)\n",
    "current_sum=0\n",
    "while current_sum/total <= 0.90:\n",
    "    current_sum += pca.explained_variance_[k]\n",
    "    k+=1\n",
    "print('Number of PCA Components that explain 90% varoance are',k)"
   ]
  },
  {
   "cell_type": "code",
   "execution_count": 28,
   "metadata": {},
   "outputs": [
    {
     "name": "stdout",
     "output_type": "stream",
     "text": [
      "(49502, 43)\n"
     ]
    }
   ],
   "source": [
    "pca=PCA(n_components=k,whiten=True)\n",
    "train_transform_data= pca.fit_transform(X_train)\n",
    "print(train_transform_data.shape)\n",
    "\n",
    "test_transform_data=pca.transform(X_test)\n",
    "test_transform_data.shape\n",
    "xgb_clf = XGBClassifier(n_estimators=150,n_jobs=-1)\n",
    "xgb_clf.fit(train_transform_data,y_train)\n",
    "pred1_xgb = xgb_clf.predict(test_transform_data)\n",
    "pred2_xgb = xgb_clf.predict_proba(test_transform_data)"
   ]
  },
  {
   "cell_type": "code",
   "execution_count": 29,
   "metadata": {},
   "outputs": [
    {
     "name": "stdout",
     "output_type": "stream",
     "text": [
      "Accuracy XGBoost with PCA: 0.7525048480930834\n",
      "Log Loss XGBoost with PCA: 0.642923588039025\n",
      "             precision    recall  f1-score   support\n",
      "\n",
      "          0       0.54      0.32      0.40       386\n",
      "          1       0.65      0.85      0.74      3224\n",
      "          2       0.51      0.35      0.42      1601\n",
      "          3       0.65      0.20      0.31       538\n",
      "          4       0.95      0.95      0.95       548\n",
      "          5       0.91      0.92      0.92      2827\n",
      "          6       0.70      0.57      0.63       568\n",
      "          7       0.85      0.89      0.87      1693\n",
      "          8       0.79      0.84      0.81       991\n",
      "\n",
      "avg / total       0.74      0.75      0.74     12376\n",
      "\n"
     ]
    }
   ],
   "source": [
    "print ('Accuracy XGBoost with PCA:', accuracy_score(y_test, pred1_xgb))\n",
    "print ('Log Loss XGBoost with PCA:', log_loss(y_test, pred2_xgb))\n",
    "from sklearn.metrics import classification_report\n",
    "print(classification_report(y_test,pred1_xgb))"
   ]
  },
  {
   "cell_type": "markdown",
   "metadata": {},
   "source": [
    "More complex, tree-based models tended to result in the highest test classification accuracy and providing important features. Tree based models always outperform normal decision tree, particularly in larger datasets because of its ensemble approach. The drawback being it is computationally expensive.\n",
    "\n",
    "High-performance packages xgboost can be extremely valuable in decreasing model computational time"
   ]
  },
  {
   "cell_type": "markdown",
   "metadata": {},
   "source": [
    "## Cross-Validation"
   ]
  },
  {
   "cell_type": "markdown",
   "metadata": {},
   "source": [
    "To get a better measure of prediction model, we can successively split the data in folds that we use for training and testing for our model\n",
    "\n",
    "Evaluation with 5-fold cross-validation"
   ]
  },
  {
   "cell_type": "code",
   "execution_count": 45,
   "metadata": {},
   "outputs": [
    {
     "name": "stdout",
     "output_type": "stream",
     "text": [
      "Performing 05-fold cross validation...\n",
      "Log Loss at each step [0.64876871 0.65544209 0.6471868  0.64202868 0.64467585]\n",
      "Loss Value of XGBoost Classifier: 0.65 (+/- 0.00)\n"
     ]
    }
   ],
   "source": [
    "from sklearn import cross_validation\n",
    "print(\"Performing 05-fold cross validation...\")\n",
    "\n",
    "X1=X[imp] #Subsetting important features\n",
    "xgb_clf = XGBClassifier(n_estimators=150,n_jobs=-1)\n",
    "\n",
    "scores = cross_val_score(xgb_clf,X1 ,y , cv=5, scoring='neg_log_loss')\n",
    "print('Log Loss at each step',-scores)\n",
    "print(\"Loss Value of XGBoost Classifier: %0.2f (+/- %0.2f)\" % (abs(scores.mean()), scores.std()))"
   ]
  },
  {
   "cell_type": "markdown",
   "metadata": {},
   "source": [
    "### RESULTS"
   ]
  },
  {
   "cell_type": "markdown",
   "metadata": {},
   "source": [
    "* Based on feature selection, we have identified 48 features in our dataset which have strong predictive potential with respect to the complete Otto Group Product Classification \n",
    "\n",
    "* Cross-validation model results using only important identified features are consistent with our previous model"
   ]
  },
  {
   "cell_type": "code",
   "execution_count": null,
   "metadata": {},
   "outputs": [],
   "source": []
  }
 ],
 "metadata": {
  "kernelspec": {
   "display_name": "Python 3",
   "language": "python",
   "name": "python3"
  },
  "language_info": {
   "codemirror_mode": {
    "name": "ipython",
    "version": 3
   },
   "file_extension": ".py",
   "mimetype": "text/x-python",
   "name": "python",
   "nbconvert_exporter": "python",
   "pygments_lexer": "ipython3",
   "version": "3.6.5"
  }
 },
 "nbformat": 4,
 "nbformat_minor": 2
}
